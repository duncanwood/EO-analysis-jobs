{
 "cells": [
  {
   "cell_type": "code",
   "execution_count": 1,
   "metadata": {},
   "outputs": [],
   "source": [
    "import os\n",
    "import glob\n",
    "import lsst.eotest.sensor as sensorTest\n",
    "import lsst.eotest.image_utils as imutils\n",
    "import bot_eo_analyses as bot_eo\n",
    "from camera_components import camera_info\n",
    "from lsst.eotest.sensor.flatPairTask import find_flat2    # for use with TS8 data in the flat_pairs and ptc tasks"
   ]
  },
  {
   "cell_type": "code",
   "execution_count": 2,
   "metadata": {},
   "outputs": [],
   "source": [
    "# Specify a raft and a run to analyze.\n",
    "root_dir = '/gpfs/slac/lsst/fs1/g/data/jobHarness/jh_archive/LCA-11021_RTM'\n",
    "raft = 'LCA-11021_RTM-014'\n",
    "run = '9537'\n",
    "\n",
    "# Pick a CCD by slot.\n",
    "slot = 'S00'\n",
    "det_name = '{}_{}'.format(raft, slot)"
   ]
  },
  {
   "cell_type": "code",
   "execution_count": 3,
   "metadata": {},
   "outputs": [],
   "source": [
    "# File to gather the eotest results.  A file with this name is updated by the various eotasks.\n",
    "eotest_results_file = '_'.join((det_name, run, 'eotest_results.fits'))\n",
    "\n",
    "# A function to help gather the data.\n",
    "def glob_files(*args):\n",
    "    return sorted(glob.glob(os.path.join(root_dir, raft, run, *args)))\n",
    "\n",
    "# For the gain/psf and read noise, we use the Fe55 acquisition.\n",
    "job = 'fe55_raft_acq'\n",
    "bias_files = glob_files('fe55_raft_acq', 'v0', '*', slot, '*fe55_bias*.fits')\n",
    "fe55_files = glob_files('fe55_raft_acq', 'v0', '*', slot, '*fe55_fe55*.fits')\n",
    "\n",
    "# For full raft noise correlation matrix, one needs to crate a dictionary of bias files, keyed by slot.\n",
    "bias_file_dict = {slot: glob_files('fe55_raft_acq', 'v0', '*', slot, '*fe55_bias*.fits')[0]\n",
    "                  for slot in camera_info.get_slot_names()}\n",
    "\n",
    "# For bright defects and dark current tasks.\n",
    "dark_files = glob_files('dark_raft_acq', 'v0', '*', slot, '*dark_dark*.fits')\n",
    "\n",
    "# For dark defects and CTE tasks.\n",
    "sflat_files = glob_files('sflat_raft_acq', 'v0', '*', slot, '*sflat_500_flat_H*.fits')\n",
    "\n",
    "# For linearity and ptc tasks.\n",
    "flat1_files = glob_files('flat_pair_raft_acq', 'v0', '*', slot, '*flat1*.fits')\n",
    "\n",
    "# Set default gain values in case the Fe55 task is skipped.\n",
    "gains = {_: 0.8 for _ in range(1, 17)}"
   ]
  },
  {
   "cell_type": "code",
   "execution_count": 4,
   "metadata": {},
   "outputs": [
    {
     "name": "stderr",
     "output_type": "stream",
     "text": [
      "/opt/lsst/software/stack/python/miniconda3-4.3.21/lib/python3.6/site-packages/scipy/optimize/minpack.py:436: RuntimeWarning: Number of calls to function has reached maxfev = 1000.\n",
      "  warnings.warn(errors[info][0], RuntimeWarning)\n",
      "/gpfs/slac/lsst/fs3/g/data/software/jh_install/lssttd-1369/eotest-0.1.0/python/lsst/eotest/sensor/fe55_psf.py:57: RuntimeWarning: invalid value encountered in sqrt\n",
      "  std_y = np.sqrt((sum_y2 / sum_0) - (mean_y * mean_y))\n",
      "/gpfs/slac/lsst/fs3/g/data/software/jh_install/lssttd-1369/eotest-0.1.0/python/lsst/eotest/sensor/fe55_psf.py:404: RuntimeWarning: invalid value encountered in greater\n",
      "  indx = np.where((chiprob > min_prob) & (amps == amp))\n",
      "/gpfs/slac/lsst/fs3/g/data/software/jh_install/lssttd-1369/eotest-0.1.0/python/lsst/eotest/sensor/fe55_psf.py:56: RuntimeWarning: invalid value encountered in sqrt\n",
      "  std_x = np.sqrt((sum_x2 / sum_0) - (mean_x * mean_x))\n",
      "/gpfs/slac/lsst/fs3/g/data/software/jh_install/lssttd-1369/eotest-0.1.0/python/lsst/eotest/sensor/EOTestPlots.py:363: RuntimeWarning: invalid value encountered in greater\n",
      "  index = np.where(chiprob > chiprob_min)\n",
      "/gpfs/slac/lsst/fs3/g/data/software/jh_install/lssttd-1369/jh-ccs-utils-0.1.2/python/siteUtils.py:413: ResourceWarning: unclosed file <_io.FileIO name='LCA-11021_RTM-014_S00_9537_psf_results_nsig4.fits' mode='rb' closefd=True>\n",
      "  result = callback(*args, **kwds)\n",
      "/gpfs/slac/lsst/fs3/g/data/software/jh_install/lssttd-1369/eotest-0.1.0/python/lsst/eotest/sensor/EOTestPlots.py:317: RuntimeWarning: invalid value encountered in greater\n",
      "  index = np.where(chiprob > chiprob_min)\n"
     ]
    },
    {
     "name": "stdout",
     "output_type": "stream",
     "text": [
      "CPU times: user 1min 13s, sys: 18.5 s, total: 1min 32s\n",
      "Wall time: 1min 21s\n"
     ]
    }
   ],
   "source": [
    "# Run the Fe55 single sensor task.\n",
    "%time bot_eo.fe55_task(run, det_name, fe55_files, bias_files)\n",
    "\n",
    "# Retrieve the calculated gains from the eotest results file. \n",
    "#eotest_results = sensorTest.EOTestResults(eotest_results_file)\n",
    "#gains = {amp: gain for amp, gain in zip(eotest_results['AMP'], eotest_results['GAIN'])}"
   ]
  },
  {
   "cell_type": "code",
   "execution_count": 5,
   "metadata": {},
   "outputs": [
    {
     "name": "stdout",
     "output_type": "stream",
     "text": [
      "CPU times: user 16.5 s, sys: 3.36 s, total: 19.9 s\n",
      "Wall time: 17.9 s\n"
     ]
    }
   ],
   "source": [
    "# Run the read noise task.\n",
    "%time bot_eo.read_noise_task(run, det_name, bias_files, gains)"
   ]
  },
  {
   "cell_type": "code",
   "execution_count": 6,
   "metadata": {},
   "outputs": [
    {
     "name": "stdout",
     "output_type": "stream",
     "text": [
      "CPU times: user 27.5 s, sys: 2.02 s, total: 29.5 s\n",
      "Wall time: 32.6 s\n"
     ]
    }
   ],
   "source": [
    "# Run the raft-level overscan correlation calculation.\n",
    "%time bot_eo.raft_noise_correlations(run, raft, bias_file_dict)"
   ]
  },
  {
   "cell_type": "code",
   "execution_count": 7,
   "metadata": {},
   "outputs": [
    {
     "name": "stdout",
     "output_type": "stream",
     "text": [
      "24396.0\n",
      "23223.0\n",
      "22399.0\n",
      "22360.0\n",
      "22639.0\n",
      "23115.0\n",
      "24607.0\n",
      "25856.0\n",
      "27939.0\n",
      "25000.0\n",
      "23691.0\n",
      "22635.0\n",
      "21632.0\n",
      "22084.0\n",
      "22769.0\n",
      "24570.0\n",
      "CPU times: user 31.4 s, sys: 2.17 s, total: 33.6 s\n",
      "Wall time: 36.2 s\n"
     ]
    }
   ],
   "source": [
    "# Run the bright defects task.\n",
    "mask_files = sorted(glob.glob('_'.join((det_name, run, '*mask.fits'))))\n",
    "%time bot_eo.bright_defects_task(run, det_name, dark_files, gains=gains, mask_files=mask_files)"
   ]
  },
  {
   "cell_type": "code",
   "execution_count": 8,
   "metadata": {},
   "outputs": [
    {
     "name": "stdout",
     "output_type": "stream",
     "text": [
      "50450.0\n",
      "50710.0\n",
      "50571.0\n",
      "50309.0\n",
      "50138.0\n",
      "50744.0\n",
      "51157.0\n",
      "51134.0\n",
      "50007.0\n",
      "49728.0\n",
      "49183.0\n",
      "48661.0\n",
      "48627.0\n",
      "48991.0\n",
      "49285.0\n",
      "49372.0\n",
      "CPU times: user 48 s, sys: 3.37 s, total: 51.4 s\n",
      "Wall time: 57.1 s\n"
     ]
    }
   ],
   "source": [
    "# Run the dark defects task.\n",
    "mask_files = sorted(glob.glob('_'.join((det_name, run, '*mask.fits'))))\n",
    "%time bot_eo.dark_defects_task(run, det_name, sflat_files, mask_files=mask_files)"
   ]
  },
  {
   "cell_type": "code",
   "execution_count": 9,
   "metadata": {},
   "outputs": [
    {
     "name": "stdout",
     "output_type": "stream",
     "text": [
      "24396.0\n",
      "23223.0\n",
      "22399.0\n",
      "22360.0\n",
      "22639.0\n",
      "23115.0\n",
      "24607.0\n",
      "25856.0\n",
      "27939.0\n",
      "25000.0\n",
      "23691.0\n",
      "22635.0\n",
      "21632.0\n",
      "22084.0\n",
      "22769.0\n",
      "24570.0\n",
      "CPU times: user 59.1 s, sys: 1.09 s, total: 1min\n",
      "Wall time: 1min\n"
     ]
    }
   ],
   "source": [
    "# Run the dark current task.\n",
    "mask_files = sorted(glob.glob('_'.join((det_name, run, '*mask.fits'))))\n",
    "%time dark_curr_pixels, dark95s = bot_eo.dark_current_task(run, det_name, dark_files, gains, mask_files=mask_files)\n",
    "bot_eo.plot_ccd_total_noise(run, det_name, dark_curr_pixels, dark95s, eotest_results_file)"
   ]
  },
  {
   "cell_type": "code",
   "execution_count": 10,
   "metadata": {},
   "outputs": [
    {
     "name": "stdout",
     "output_type": "stream",
     "text": [
      "74828.0\n",
      "73908.0\n",
      "72952.0\n",
      "72651.0\n",
      "72760.0\n",
      "73842.0\n",
      "75758.0\n",
      "76986.0\n",
      "77940.0\n",
      "74718.0\n",
      "72831.0\n",
      "71280.0\n",
      "70236.0\n",
      "71052.0\n",
      "72031.0\n",
      "73936.0\n",
      "CPU times: user 27.5 s, sys: 663 ms, total: 28.2 s\n",
      "Wall time: 28.3 s\n"
     ]
    }
   ],
   "source": [
    "# Run the CTE task.\n",
    "mask_files = sorted(glob.glob('_'.join((det_name, run, '*mask.fits'))))\n",
    "%time superflat_file = bot_eo.cte_task(run, det_name, sflat_files, gains, mask_files=mask_files)\n",
    "bot_eo.plot_cte_results(run, det_name, superflat_file, eotest_results_file, mask_files=mask_files);"
   ]
  },
  {
   "cell_type": "code",
   "execution_count": 11,
   "metadata": {},
   "outputs": [
    {
     "name": "stdout",
     "output_type": "stream",
     "text": [
      "amp, flux bounds, fit_pars: 1 -491.22163350694314 3109.1620367187643 [   22.21985414 20914.87304687]\n",
      "amp, flux bounds, fit_pars: 2 -493.4845996365862 3088.7953415519764 [   22.33214637 21020.5703125 ]\n",
      "amp, flux bounds, fit_pars: 3 -492.0352414032569 3101.839565651941 [   22.2600965  20952.75195312]\n",
      "amp, flux bounds, fit_pars: 4 -489.3183882980305 3126.291243598979 [   22.12628247 20826.796875  ]\n",
      "amp, flux bounds, fit_pars: 5 -487.29931785513656 3144.462877585023 [   22.02787399 20734.16796875]\n",
      "amp, flux bounds, fit_pars: 6 -492.35966912510213 3098.919716155335 [   22.27618389 20967.89453125]\n",
      "amp, flux bounds, fit_pars: 7 -495.59665861202666 3069.7868107730123 [   22.43797916 21120.1875    ]\n",
      "amp, flux bounds, fit_pars: 8 -495.27264322688325 3072.7029492393026 [   22.42167804 21104.84375   ]\n",
      "amp, flux bounds, fit_pars: 9 -485.613252381603 3159.6374668468247 [   21.94636423 20657.4453125 ]\n",
      "amp, flux bounds, fit_pars: 10 -483.0768761636344 3182.464852808543 [   21.82487772 20543.09375   ]\n",
      "amp, flux bounds, fit_pars: 11 -478.11172012029584 3227.1512571985895 [   21.59091014 20322.8671875 ]\n",
      "amp, flux bounds, fit_pars: 12 -473.2863507995851 3270.5795810849854 [   21.36828654 20113.31835937]\n",
      "amp, flux bounds, fit_pars: 13 -473.05642755181725 3272.6488903148975 [   21.35779332 20103.44140625]\n",
      "amp, flux bounds, fit_pars: 14 -477.06918497203316 3236.5340735329546 [   21.5424197  20277.22460938]\n",
      "amp, flux bounds, fit_pars: 15 -480.12655197741253 3209.0177704845396 [   21.68524541 20411.66210937]\n",
      "amp, flux bounds, fit_pars: 16 -480.70448549164706 3203.816368856429 [   21.71245683 20437.27539062]\n",
      "CPU times: user 54.1 s, sys: 15 s, total: 1min 9s\n",
      "Wall time: 1min 4s\n"
     ]
    }
   ],
   "source": [
    "# Run the linearity task\n",
    "mask_files = sorted(glob.glob('_'.join((det_name, run, '*mask.fits'))))\n",
    "flat1_files_subset = flat1_files[::len(flat1_files)//4]   # downselect so that this demo runs more quickly\n",
    "%time bot_eo.flat_pairs_task(run, det_name, flat1_files_subset, gains, mask_files=mask_files, flat2_finder=find_flat2)"
   ]
  },
  {
   "cell_type": "code",
   "execution_count": 12,
   "metadata": {},
   "outputs": [
    {
     "name": "stdout",
     "output_type": "stream",
     "text": [
      "CPU times: user 1min 10s, sys: 9.2 s, total: 1min 19s\n",
      "Wall time: 1min 20s\n"
     ]
    }
   ],
   "source": [
    "# Run the PTC task\n",
    "mask_files = sorted(glob.glob('_'.join((det_name, run, '*mask.fits'))))\n",
    "%time bot_eo.ptc_task(run, det_name, flat1_files[::2], gains, mask_files=mask_files, flat2_finder=find_flat2)"
   ]
  },
  {
   "cell_type": "code",
   "execution_count": 13,
   "metadata": {},
   "outputs": [
    {
     "name": "stdout",
     "output_type": "stream",
     "text": [
      "CPU times: user 16.1 s, sys: 859 ms, total: 16.9 s\n",
      "Wall time: 22.4 s\n"
     ]
    }
   ],
   "source": [
    "# Run the tearing task\n",
    "%time bot_eo.tearing_task(run, det_name, flat1_files)"
   ]
  }
 ],
 "metadata": {
  "kernelspec": {
   "display_name": "LSST",
   "language": "python",
   "name": "lsst"
  },
  "language_info": {
   "codemirror_mode": {
    "name": "ipython",
    "version": 3
   },
   "file_extension": ".py",
   "mimetype": "text/x-python",
   "name": "python",
   "nbconvert_exporter": "python",
   "pygments_lexer": "ipython3",
   "version": "3.6.2"
  }
 },
 "nbformat": 4,
 "nbformat_minor": 2
}
